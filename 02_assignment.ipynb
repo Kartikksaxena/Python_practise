{
  "nbformat": 4,
  "nbformat_minor": 0,
  "metadata": {
    "colab": {
      "provenance": [],
      "authorship_tag": "ABX9TyMD7C0d1tdQ0y3rK3X0qGwB",
      "include_colab_link": true
    },
    "kernelspec": {
      "name": "python3",
      "display_name": "Python 3"
    },
    "language_info": {
      "name": "python"
    }
  },
  "cells": [
    {
      "cell_type": "markdown",
      "metadata": {
        "id": "view-in-github",
        "colab_type": "text"
      },
      "source": [
        "<a href=\"https://colab.research.google.com/github/Kartikksaxena/Python_practise/blob/main/02_assignment.ipynb\" target=\"_parent\"><img src=\"https://colab.research.google.com/assets/colab-badge.svg\" alt=\"Open In Colab\"/></a>"
      ]
    },
    {
      "cell_type": "markdown",
      "source": [
        " 1. There is two values of boolean data types : True and False"
      ],
      "metadata": {
        "id": "7g9hCyn7cTUi"
      }
    },
    {
      "cell_type": "markdown",
      "source": [
        "2. There are three boolean operators : and , or , not"
      ],
      "metadata": {
        "id": "uGZJVxFFcpl4"
      }
    },
    {
      "cell_type": "markdown",
      "source": [
        "3.\n",
        "### AND Operation Table\n",
        "\n",
        "A | B | A and B\n",
        "- | - | ------\n",
        "0 | 0 |  0\n",
        "1 | 0 |  0\n",
        "0 | 1 |  0\n",
        "1 | 1 |  1\n",
        "\n",
        "### OR Operation Table\n",
        "\n",
        "A | B | A or B\n",
        "- | - | ------\n",
        "0 | 0 |  0\n",
        "1 | 0 |  1\n",
        "0 | 1 |  1\n",
        "1 | 1 |  1\n",
        "\n",
        "### Not Operation Table\n",
        "\n",
        "A | not A\n",
        "- | -----\n",
        "0 |   1 \n",
        "1 |   0 \n"
      ],
      "metadata": {
        "id": "Tv-UKP1ndmf4"
      }
    },
    {
      "cell_type": "markdown",
      "source": [
        "# 4.\n",
        "Expressions | Value\n",
        "---------------------------------------|----------------------\n",
        "(5 > 4) and (3 == 5)                   |      0\n",
        "not (5 > 4)                            |      0\n",
        "(5 > 4) or (3 == 5)                    |      1\n",
        "not ((5 > 4) or (3 == 5))              |      1\n",
        "(True and True) and (True == False)    |      0\n",
        "(not False) or (not True)              |      1 "
      ],
      "metadata": {
        "id": "RJw-717BfuqU"
      }
    },
    {
      "cell_type": "markdown",
      "source": [
        "##5. six comparison operators \n",
        "\n",
        "Operator | Meaning\n",
        "---------|-------------------\n",
        "    <    | Less than\n",
        "    >    | Greater than\n",
        "    <=    | Less than equals to\n",
        "    >=    | Greater than equals to\n",
        "    ==    | Equals to\n",
        "    !=    | not Equals to"
      ],
      "metadata": {
        "id": "GF3UyDkugukY"
      }
    },
    {
      "cell_type": "markdown",
      "source": [
        "6.\n",
        "Equals Operator (==) will compare the Operands and check the values of operands are same , and return True or False . When we want to compare variables , we use this operator. \n",
        "While , Assign (=) operator will assign a value to variables. We will use Assign operator , when we want to change , update or assign value to \n",
        "variable."
      ],
      "metadata": {
        "id": "hef83yVThyW9"
      }
    },
    {
      "cell_type": "markdown",
      "source": [
        "### 7."
      ],
      "metadata": {
        "id": "QLNjIcpJoMij"
      }
    },
    {
      "cell_type": "code",
      "execution_count": 1,
      "metadata": {
        "colab": {
          "base_uri": "https://localhost:8080/"
        },
        "id": "5Evueg25budy",
        "outputId": "15a48a04-e086-42fe-f027-e6b6821cdcb4"
      },
      "outputs": [
        {
          "output_type": "stream",
          "name": "stdout",
          "text": [
            "ham\n",
            "spam\n",
            "spam\n"
          ]
        }
      ],
      "source": [
        "spam = 0\n",
        "if spam == 10:  # first Block\n",
        "  print('eggs')\n",
        "if spam > 5: # Second Block\n",
        "  print('bacon')\n",
        "else:           # Third Block\n",
        "  print('ham')\n",
        "  print('spam')\n",
        "print('spam')"
      ]
    },
    {
      "cell_type": "code",
      "source": [
        "#8. Write code that prints Hello if 1 is stored in spam, prints Howdy if 2 is stored in spam, and prints\n",
        "# Greetings! if anything else is stored in spam."
      ],
      "metadata": {
        "id": "kNKpcjA7canF"
      },
      "execution_count": 2,
      "outputs": []
    },
    {
      "cell_type": "code",
      "source": [
        "spam = int(input(\"Enter Spam value : \"))\n",
        "if spam == 1:  # first Block\n",
        "  print('Hello')\n",
        "elif spam == 2: # Second Block\n",
        "  print('Howdy')\n",
        "else:           # Third Block\n",
        "  print('Greetings!')"
      ],
      "metadata": {
        "colab": {
          "base_uri": "https://localhost:8080/"
        },
        "id": "lcb5UxW1jtDI",
        "outputId": "baf804bb-1665-4127-f8a7-67b3a03823a6"
      },
      "execution_count": 3,
      "outputs": [
        {
          "output_type": "stream",
          "name": "stdout",
          "text": [
            "Enter Spam value : 2\n",
            "Howdy\n"
          ]
        }
      ]
    },
    {
      "cell_type": "markdown",
      "source": [
        "9.If your programme is stuck in an endless loop, what keys you’ll press? =>. Ctrl + Z or Ctrl + C"
      ],
      "metadata": {
        "id": "Q1a_DelIkJ6F"
      }
    },
    {
      "cell_type": "markdown",
      "source": [
        "10. How can you tell the difference between break and continue?\n",
        "    Break will take the iterator out of loop , while continue will   skip the statements of this iteration and move to next iteration. "
      ],
      "metadata": {
        "id": "j9g5uMXukaDx"
      }
    },
    {
      "cell_type": "markdown",
      "source": [
        "11. In a for loop, what is the difference between range(10), range(0, 10), and range(0, 10, 1)?\n",
        "  \n",
        "  range(x,y,z) => it will print the values of range x to y with increment operation of z.\n",
        "  Ex : range(2,10,2) => [2,4,6,8]"
      ],
      "metadata": {
        "id": "_DSpt54hkt13"
      }
    },
    {
      "cell_type": "markdown",
      "source": [
        "12. Write a short program that prints the numbers 1 to 10 using a for loop. Then write an equivalent\n",
        "program that prints the numbers 1 to 10 using a while loop."
      ],
      "metadata": {
        "id": "x44sUk8IlOdr"
      }
    },
    {
      "cell_type": "code",
      "source": [
        "for i in range(10):\n",
        "  print(i)\n",
        "print(\"Using While loop : \")\n",
        "i=0\n",
        "while(i<=10):\n",
        "  print(f\"{i}\")\n",
        "  i += 1"
      ],
      "metadata": {
        "colab": {
          "base_uri": "https://localhost:8080/"
        },
        "id": "qke8NVmaj-5j",
        "outputId": "0f85e712-f42a-47f3-8e8c-d345b3d9fdae"
      },
      "execution_count": 9,
      "outputs": [
        {
          "output_type": "stream",
          "name": "stdout",
          "text": [
            "0\n",
            "1\n",
            "2\n",
            "3\n",
            "4\n",
            "5\n",
            "6\n",
            "7\n",
            "8\n",
            "9\n",
            "Using While loop : \n",
            "0\n",
            "1\n",
            "2\n",
            "3\n",
            "4\n",
            "5\n",
            "6\n",
            "7\n",
            "8\n",
            "9\n",
            "10\n"
          ]
        }
      ]
    },
    {
      "cell_type": "markdown",
      "source": [
        "13. If you had a function named bacon() inside a module named spam, how would you call it after\n",
        "importing spam?"
      ],
      "metadata": {
        "id": "WYKsSnKenJD1"
      }
    },
    {
      "cell_type": "markdown",
      "source": [
        "import spam"
      ],
      "metadata": {
        "id": "pyzhyTJ4nhrB"
      }
    },
    {
      "cell_type": "markdown",
      "source": [
        "func1 = spam.bacon()"
      ],
      "metadata": {
        "id": "THnAKfaEnxM3"
      }
    },
    {
      "cell_type": "code",
      "source": [],
      "metadata": {
        "id": "lK8FcgORn1RL"
      },
      "execution_count": null,
      "outputs": []
    }
  ]
}